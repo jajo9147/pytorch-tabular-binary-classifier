{
  "nbformat": 4,
  "nbformat_minor": 0,
  "metadata": {
    "colab": {
      "provenance": [],
      "include_colab_link": true
    },
    "kernelspec": {
      "name": "python3",
      "display_name": "Python 3"
    },
    "language_info": {
      "name": "python"
    }
  },
  "cells": [
    {
      "cell_type": "markdown",
      "metadata": {
        "id": "view-in-github",
        "colab_type": "text"
      },
      "source": [
        "<a href=\"https://colab.research.google.com/github/jajo9147/pytorch-tabular-binary-classifier/blob/main/PyTorch_Churn_Classifier.ipynb\" target=\"_parent\"><img src=\"https://colab.research.google.com/assets/colab-badge.svg\" alt=\"Open In Colab\"/></a>"
      ]
    },
    {
      "cell_type": "markdown",
      "source": [
        "## PyTorch Tabular Classification Example\n",
        "This notebook builds and trains a simple binary classifier on synthetic tabular data using PyTorch. It mirrors real-world applications like churn modeling, adapted from experience in enterprise ML at Verizon.\n"
      ],
      "metadata": {
        "id": "5BCcR0dDjZ1l"
      }
    },
    {
      "cell_type": "code",
      "source": [
        "#imports and Data Generation\n",
        "import numpy as np\n",
        "from sklearn.datasets import make_classification\n",
        "from sklearn.model_selection import train_test_split\n",
        "import torch\n",
        "import torch.nn as nn\n",
        "import torch.optim as optim\n",
        "\n",
        "# Generate synthetic binary classification data\n",
        "X, y = make_classification(n_samples=1000, n_features=20,\n",
        "                           n_informative=15, n_redundant=5,\n",
        "                           n_classes=2, random_state=42)\n",
        "\n",
        "# Convert to PyTorch tensors\n",
        "X = torch.tensor(X, dtype=torch.float32)\n",
        "y = torch.tensor(y, dtype=torch.float32).unsqueeze(1)\n",
        "\n",
        "# Train/test split\n",
        "X_train, X_test, y_train, y_test = train_test_split(X, y, test_size=0.2, random_state=42)\n"
      ],
      "metadata": {
        "id": "KEuAbTo-lg6_"
      },
      "execution_count": null,
      "outputs": []
    },
    {
      "cell_type": "code",
      "source": [
        "#Define the Neural Network Model\n",
        "class BinaryClassifier(nn.Module):\n",
        "    def __init__(self):\n",
        "        super(BinaryClassifier, self).__init__()\n",
        "        self.fc1 = nn.Linear(20, 32)\n",
        "        self.relu1 = nn.ReLU()\n",
        "        self.fc2 = nn.Linear(32, 16)\n",
        "        self.relu2 = nn.ReLU()\n",
        "        self.fc3 = nn.Linear(16, 1)  # No activation here\n",
        "\n",
        "    def forward(self, x):\n",
        "        x = self.relu1(self.fc1(x))\n",
        "        x = self.relu2(self.fc2(x))\n",
        "        return self.fc3(x)  # Output raw logits"
      ],
      "metadata": {
        "id": "lYQ4ZSfHlhlV"
      },
      "execution_count": null,
      "outputs": []
    },
    {
      "cell_type": "code",
      "source": [
        "#Initialize model, loss, optimizer\n",
        "model = BinaryClassifier()\n",
        "criterion = nn.BCEWithLogitsLoss()\n",
        "optimizer = optim.Adam(model.parameters(), lr=0.001)"
      ],
      "metadata": {
        "id": "Mno8nL3_l5n3"
      },
      "execution_count": null,
      "outputs": []
    },
    {
      "cell_type": "code",
      "source": [
        "#Train the Model\n",
        "epochs = 100\n",
        "for epoch in range(epochs):\n",
        "    model.train()\n",
        "    optimizer.zero_grad()\n",
        "    outputs = model(X_train)\n",
        "    loss = criterion(outputs, y_train)\n",
        "    loss.backward()\n",
        "    optimizer.step()\n",
        "    print(f\"Epoch [{epoch+1}/{epochs}], Loss: {loss.item():.4f}\")"
      ],
      "metadata": {
        "colab": {
          "base_uri": "https://localhost:8080/"
        },
        "id": "XiFyVsTll_rd",
        "outputId": "341befe2-4fbb-4f4f-c16c-c5b4c0dd2cb7"
      },
      "execution_count": null,
      "outputs": [
        {
          "output_type": "stream",
          "name": "stdout",
          "text": [
            "Epoch [1/100], Loss: 0.7649\n",
            "Epoch [2/100], Loss: 0.7561\n",
            "Epoch [3/100], Loss: 0.7476\n",
            "Epoch [4/100], Loss: 0.7394\n",
            "Epoch [5/100], Loss: 0.7317\n",
            "Epoch [6/100], Loss: 0.7242\n",
            "Epoch [7/100], Loss: 0.7172\n",
            "Epoch [8/100], Loss: 0.7104\n",
            "Epoch [9/100], Loss: 0.7038\n",
            "Epoch [10/100], Loss: 0.6975\n",
            "Epoch [11/100], Loss: 0.6913\n",
            "Epoch [12/100], Loss: 0.6854\n",
            "Epoch [13/100], Loss: 0.6795\n",
            "Epoch [14/100], Loss: 0.6738\n",
            "Epoch [15/100], Loss: 0.6682\n",
            "Epoch [16/100], Loss: 0.6626\n",
            "Epoch [17/100], Loss: 0.6571\n",
            "Epoch [18/100], Loss: 0.6516\n",
            "Epoch [19/100], Loss: 0.6462\n",
            "Epoch [20/100], Loss: 0.6407\n",
            "Epoch [21/100], Loss: 0.6353\n",
            "Epoch [22/100], Loss: 0.6299\n",
            "Epoch [23/100], Loss: 0.6244\n",
            "Epoch [24/100], Loss: 0.6189\n",
            "Epoch [25/100], Loss: 0.6133\n",
            "Epoch [26/100], Loss: 0.6078\n",
            "Epoch [27/100], Loss: 0.6022\n",
            "Epoch [28/100], Loss: 0.5966\n",
            "Epoch [29/100], Loss: 0.5910\n",
            "Epoch [30/100], Loss: 0.5853\n",
            "Epoch [31/100], Loss: 0.5796\n",
            "Epoch [32/100], Loss: 0.5739\n",
            "Epoch [33/100], Loss: 0.5681\n",
            "Epoch [34/100], Loss: 0.5622\n",
            "Epoch [35/100], Loss: 0.5563\n",
            "Epoch [36/100], Loss: 0.5504\n",
            "Epoch [37/100], Loss: 0.5444\n",
            "Epoch [38/100], Loss: 0.5384\n",
            "Epoch [39/100], Loss: 0.5323\n",
            "Epoch [40/100], Loss: 0.5262\n",
            "Epoch [41/100], Loss: 0.5200\n",
            "Epoch [42/100], Loss: 0.5138\n",
            "Epoch [43/100], Loss: 0.5077\n",
            "Epoch [44/100], Loss: 0.5015\n",
            "Epoch [45/100], Loss: 0.4952\n",
            "Epoch [46/100], Loss: 0.4890\n",
            "Epoch [47/100], Loss: 0.4828\n",
            "Epoch [48/100], Loss: 0.4766\n",
            "Epoch [49/100], Loss: 0.4705\n",
            "Epoch [50/100], Loss: 0.4643\n",
            "Epoch [51/100], Loss: 0.4582\n",
            "Epoch [52/100], Loss: 0.4520\n",
            "Epoch [53/100], Loss: 0.4459\n",
            "Epoch [54/100], Loss: 0.4399\n",
            "Epoch [55/100], Loss: 0.4339\n",
            "Epoch [56/100], Loss: 0.4279\n",
            "Epoch [57/100], Loss: 0.4220\n",
            "Epoch [58/100], Loss: 0.4162\n",
            "Epoch [59/100], Loss: 0.4104\n",
            "Epoch [60/100], Loss: 0.4047\n",
            "Epoch [61/100], Loss: 0.3991\n",
            "Epoch [62/100], Loss: 0.3935\n",
            "Epoch [63/100], Loss: 0.3879\n",
            "Epoch [64/100], Loss: 0.3824\n",
            "Epoch [65/100], Loss: 0.3770\n",
            "Epoch [66/100], Loss: 0.3717\n",
            "Epoch [67/100], Loss: 0.3665\n",
            "Epoch [68/100], Loss: 0.3613\n",
            "Epoch [69/100], Loss: 0.3562\n",
            "Epoch [70/100], Loss: 0.3512\n",
            "Epoch [71/100], Loss: 0.3463\n",
            "Epoch [72/100], Loss: 0.3415\n",
            "Epoch [73/100], Loss: 0.3367\n",
            "Epoch [74/100], Loss: 0.3320\n",
            "Epoch [75/100], Loss: 0.3274\n",
            "Epoch [76/100], Loss: 0.3228\n",
            "Epoch [77/100], Loss: 0.3184\n",
            "Epoch [78/100], Loss: 0.3140\n",
            "Epoch [79/100], Loss: 0.3097\n",
            "Epoch [80/100], Loss: 0.3055\n",
            "Epoch [81/100], Loss: 0.3014\n",
            "Epoch [82/100], Loss: 0.2974\n",
            "Epoch [83/100], Loss: 0.2934\n",
            "Epoch [84/100], Loss: 0.2896\n",
            "Epoch [85/100], Loss: 0.2858\n",
            "Epoch [86/100], Loss: 0.2822\n",
            "Epoch [87/100], Loss: 0.2785\n",
            "Epoch [88/100], Loss: 0.2750\n",
            "Epoch [89/100], Loss: 0.2716\n",
            "Epoch [90/100], Loss: 0.2681\n",
            "Epoch [91/100], Loss: 0.2648\n",
            "Epoch [92/100], Loss: 0.2616\n",
            "Epoch [93/100], Loss: 0.2583\n",
            "Epoch [94/100], Loss: 0.2552\n",
            "Epoch [95/100], Loss: 0.2521\n",
            "Epoch [96/100], Loss: 0.2491\n",
            "Epoch [97/100], Loss: 0.2462\n",
            "Epoch [98/100], Loss: 0.2433\n",
            "Epoch [99/100], Loss: 0.2404\n",
            "Epoch [100/100], Loss: 0.2376\n"
          ]
        }
      ]
    },
    {
      "cell_type": "code",
      "source": [
        "#Evaluate the accuracy\n",
        "model.eval()\n",
        "with torch.no_grad():\n",
        "    logits = model(X_test)\n",
        "    probs = torch.sigmoid(logits)\n",
        "    predictions = probs.round()\n",
        "    accuracy = (predictions.eq(y_test).sum().float() / y_test.shape[0]).item()\n",
        "    print(f\"Test Accuracy: {accuracy:.4f}\")"
      ],
      "metadata": {
        "colab": {
          "base_uri": "https://localhost:8080/"
        },
        "id": "ZNHLnoEmmINe",
        "outputId": "69f64da7-e57a-4536-a8c1-71c47247b8c9"
      },
      "execution_count": null,
      "outputs": [
        {
          "output_type": "stream",
          "name": "stdout",
          "text": [
            "Test Accuracy: 0.8900\n"
          ]
        }
      ]
    }
  ]
}